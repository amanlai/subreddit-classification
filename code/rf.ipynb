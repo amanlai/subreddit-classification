{
 "cells": [
  {
   "cell_type": "markdown",
   "id": "1b583d52",
   "metadata": {},
   "source": [
    "# 1. Baseline model"
   ]
  },
  {
   "cell_type": "code",
   "execution_count": 1,
   "id": "5f9b7937",
   "metadata": {},
   "outputs": [],
   "source": [
    "# Imports\n",
    "import pandas as pd\n",
    "\n",
    "from sklearn.ensemble import RandomForestClassifier\n",
    "\n",
    "# this class builds a pipeline given a transformer and a classifier\n",
    "from get_pipeline import BuildPipeline\n",
    "\n",
    "# save the scores to a json file\n",
    "from helpers import separate_X_y, write_to_json, get_scores_dict, save_model"
   ]
  },
  {
   "cell_type": "markdown",
   "id": "04c4f2db",
   "metadata": {},
   "source": [
    "## Read data"
   ]
  },
  {
   "cell_type": "code",
   "execution_count": 2,
   "id": "2977987d",
   "metadata": {},
   "outputs": [],
   "source": [
    "train = pd.read_csv('../data/train.csv')\n",
    "test = pd.read_csv('../data/test.csv')"
   ]
  },
  {
   "cell_type": "markdown",
   "id": "fa557b30",
   "metadata": {},
   "source": [
    "## Separate `X` and `y`"
   ]
  },
  {
   "cell_type": "code",
   "execution_count": 3,
   "id": "58277e6a",
   "metadata": {},
   "outputs": [],
   "source": [
    "X_train, y_train = separate_X_y(train, 'title', 'is_worldnews')\n",
    "X_test, y_test = separate_X_y(test, 'title', 'is_worldnews')"
   ]
  },
  {
   "cell_type": "markdown",
   "id": "c9cf4eaf",
   "metadata": {},
   "source": [
    "## CountVectorizer + RandomForest"
   ]
  },
  {
   "cell_type": "code",
   "execution_count": 4,
   "id": "a4184b3e",
   "metadata": {},
   "outputs": [],
   "source": [
    "bp = BuildPipeline(X_train, y_train)\n",
    "# build pipeline\n",
    "bp.get_pipeline('cvec', RandomForestClassifier, n_jobs=-1);\n",
    "# fit pipeline\n",
    "bp.grid_search();"
   ]
  },
  {
   "cell_type": "code",
   "execution_count": 5,
   "id": "972ade86",
   "metadata": {},
   "outputs": [
    {
     "data": {
      "text/plain": [
       "0.9910814419225634"
      ]
     },
     "execution_count": 5,
     "metadata": {},
     "output_type": "execute_result"
    }
   ],
   "source": [
    "train_acc = bp.pipe.score(X_train, y_train)\n",
    "train_acc"
   ]
  },
  {
   "cell_type": "code",
   "execution_count": 6,
   "id": "e67dc4ac",
   "metadata": {},
   "outputs": [
    {
     "data": {
      "text/plain": [
       "0.8535725728933035"
      ]
     },
     "execution_count": 6,
     "metadata": {},
     "output_type": "execute_result"
    }
   ],
   "source": [
    "test_acc = bp.pipe.score(X_test, y_test)\n",
    "test_acc"
   ]
  },
  {
   "cell_type": "code",
   "execution_count": 7,
   "id": "c9a8a546",
   "metadata": {},
   "outputs": [],
   "source": [
    "write_to_json(get_scores_dict(\"cvec_rf\", train_acc, test_acc))"
   ]
  },
  {
   "cell_type": "markdown",
   "id": "4a3a462c",
   "metadata": {},
   "source": [
    "## TfidfVectorizer + RandomForest"
   ]
  },
  {
   "cell_type": "code",
   "execution_count": 8,
   "id": "be4be823",
   "metadata": {},
   "outputs": [],
   "source": [
    "bp = BuildPipeline(X_train, y_train)\n",
    "# build pipeline\n",
    "bp.get_pipeline('tvec', RandomForestClassifier, n_jobs=-1);\n",
    "# fit pipeline\n",
    "bp.grid_search();"
   ]
  },
  {
   "cell_type": "code",
   "execution_count": 9,
   "id": "92c2cf1e",
   "metadata": {},
   "outputs": [],
   "source": [
    "train_acc = bp.pipe.score(X_train, y_train)"
   ]
  },
  {
   "cell_type": "code",
   "execution_count": 10,
   "id": "60e15489",
   "metadata": {},
   "outputs": [],
   "source": [
    "test_acc = bp.pipe.score(X_test, y_test)"
   ]
  },
  {
   "cell_type": "code",
   "execution_count": 11,
   "id": "4228f7b7",
   "metadata": {},
   "outputs": [],
   "source": [
    "write_to_json(get_scores_dict(\"tvec_rf\", train_acc, test_acc))"
   ]
  },
  {
   "cell_type": "markdown",
   "id": "ec1d9127",
   "metadata": {},
   "source": [
    "---\n",
    "\n",
    "\n",
    "# 2. Train on lemmatized data"
   ]
  },
  {
   "cell_type": "code",
   "execution_count": 2,
   "id": "8acea6d9",
   "metadata": {},
   "outputs": [],
   "source": [
    "train_lm = pd.read_csv(\"../data/train_lemmatized.csv\")\n",
    "test_lm = pd.read_csv(\"../data/test_lemmatized.csv\")"
   ]
  },
  {
   "cell_type": "code",
   "execution_count": 3,
   "id": "799f843e",
   "metadata": {},
   "outputs": [],
   "source": [
    "X_train_lm, y_train = separate_X_y(train_lm, 'new_title', 'is_worldnews')\n",
    "X_test_lm, y_test = separate_X_y(test_lm, 'new_title', 'is_worldnews')"
   ]
  },
  {
   "cell_type": "code",
   "execution_count": 6,
   "id": "d003f191",
   "metadata": {},
   "outputs": [
    {
     "name": "stdout",
     "output_type": "stream",
     "text": [
      "CPU times: total: 31min 3s\n",
      "Wall time: 2h 5min 9s\n"
     ]
    }
   ],
   "source": [
    "%%time\n",
    "# fit pipeline\n",
    "bp = BuildPipeline(X_train_lm, y_train)\n",
    "bp.get_pipeline('cvec', RandomForestClassifier, n_jobs=-1)\n",
    "\n",
    "param_grid = {\n",
    "    'cvec__ngram_range': [(1,1), (1,2)],\n",
    "    'cvec__min_df': [0, 0.01, 0.05, 0.1], \n",
    "    'cvec__max_df': [0.9, 0.95],\n",
    "    'rfc__max_depth': [None, *range(1, 5)],\n",
    "    'rfc__n_estimators': [100, 300, 500]\n",
    "}\n",
    "\n",
    "gs = bp.grid_search(param_grid, cv=10, random=True, n_iter=50, n_jobs=-1)"
   ]
  },
  {
   "cell_type": "code",
   "execution_count": 7,
   "id": "7769d8af",
   "metadata": {},
   "outputs": [
    {
     "data": {
      "text/plain": [
       "{'rfc__n_estimators': 100,\n",
       " 'rfc__max_depth': None,\n",
       " 'cvec__ngram_range': (1, 2),\n",
       " 'cvec__min_df': 0,\n",
       " 'cvec__max_df': 0.95}"
      ]
     },
     "execution_count": 7,
     "metadata": {},
     "output_type": "execute_result"
    }
   ],
   "source": [
    "gs.best_params_"
   ]
  },
  {
   "cell_type": "code",
   "execution_count": 8,
   "id": "59253a45",
   "metadata": {},
   "outputs": [
    {
     "data": {
      "text/plain": [
       "0.9908930669800236"
      ]
     },
     "execution_count": 8,
     "metadata": {},
     "output_type": "execute_result"
    }
   ],
   "source": [
    "train_acc_lm = gs.score(X_train_lm, y_train)\n",
    "train_acc_lm"
   ]
  },
  {
   "cell_type": "code",
   "execution_count": 9,
   "id": "5d12e12e",
   "metadata": {},
   "outputs": [
    {
     "data": {
      "text/plain": [
       "0.8561128024355071"
      ]
     },
     "execution_count": 9,
     "metadata": {},
     "output_type": "execute_result"
    }
   ],
   "source": [
    "test_acc_lm = gs.score(X_test_lm, y_test)\n",
    "test_acc_lm"
   ]
  },
  {
   "cell_type": "code",
   "execution_count": 14,
   "id": "410656c7",
   "metadata": {},
   "outputs": [],
   "source": [
    "write_to_json(get_scores_dict(\"lm_cvec_rf\", train_acc_lm, test_acc_lm))"
   ]
  },
  {
   "cell_type": "code",
   "execution_count": 11,
   "id": "b3879f47",
   "metadata": {},
   "outputs": [],
   "source": [
    "save_model('random_forest', gs)"
   ]
  },
  {
   "cell_type": "code",
   "execution_count": null,
   "id": "a1022dc1",
   "metadata": {},
   "outputs": [],
   "source": []
  }
 ],
 "metadata": {
  "kernelspec": {
   "display_name": "Python 3 (ipykernel)",
   "language": "python",
   "name": "python3"
  },
  "language_info": {
   "codemirror_mode": {
    "name": "ipython",
    "version": 3
   },
   "file_extension": ".py",
   "mimetype": "text/x-python",
   "name": "python",
   "nbconvert_exporter": "python",
   "pygments_lexer": "ipython3",
   "version": "3.9.12"
  }
 },
 "nbformat": 4,
 "nbformat_minor": 5
}
