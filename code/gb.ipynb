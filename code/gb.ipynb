{
 "cells": [
  {
   "cell_type": "markdown",
   "id": "1b583d52",
   "metadata": {},
   "source": [
    "# Baseline model"
   ]
  },
  {
   "cell_type": "code",
   "execution_count": 1,
   "id": "5f9b7937",
   "metadata": {},
   "outputs": [],
   "source": [
    "# Imports\n",
    "import pandas as pd\n",
    "\n",
    "from sklearn.ensemble import GradientBoostingClassifier\n",
    "\n",
    "# this class builds a pipeline given a transformer and a classifier\n",
    "from get_pipeline import BuildPipeline\n",
    "\n",
    "# save the scores to a json file\n",
    "from helpers import separate_X_y, write_to_json, get_scores_dict"
   ]
  },
  {
   "cell_type": "markdown",
   "id": "04c4f2db",
   "metadata": {},
   "source": [
    "## Read data"
   ]
  },
  {
   "cell_type": "code",
   "execution_count": 2,
   "id": "2977987d",
   "metadata": {},
   "outputs": [],
   "source": [
    "train = pd.read_csv('../data/train.csv')\n",
    "test = pd.read_csv('../data/test.csv')"
   ]
  },
  {
   "cell_type": "markdown",
   "id": "fa557b30",
   "metadata": {},
   "source": [
    "## Separate `X` and `y`"
   ]
  },
  {
   "cell_type": "code",
   "execution_count": 3,
   "id": "58277e6a",
   "metadata": {},
   "outputs": [],
   "source": [
    "X_train, y_train = separate_X_y(train, 'title', 'is_worldnews')\n",
    "X_test, y_test = separate_X_y(test, 'title', 'is_worldnews')"
   ]
  },
  {
   "cell_type": "markdown",
   "id": "c9cf4eaf",
   "metadata": {},
   "source": [
    "## CountVectorizer + GradientBoostingClassifier"
   ]
  },
  {
   "cell_type": "code",
   "execution_count": 4,
   "id": "a4184b3e",
   "metadata": {},
   "outputs": [],
   "source": [
    "bp = BuildPipeline(X_train, y_train)\n",
    "# build pipeline\n",
    "bp.get_pipeline('cvec', GradientBoostingClassifier);\n",
    "# fit pipeline\n",
    "bp.grid_search();"
   ]
  },
  {
   "cell_type": "code",
   "execution_count": 5,
   "id": "972ade86",
   "metadata": {},
   "outputs": [
    {
     "data": {
      "text/plain": [
       "0.7655273698264352"
      ]
     },
     "execution_count": 5,
     "metadata": {},
     "output_type": "execute_result"
    }
   ],
   "source": [
    "train_acc = bp.pipe.score(X_train, y_train)\n",
    "train_acc"
   ]
  },
  {
   "cell_type": "code",
   "execution_count": 6,
   "id": "e67dc4ac",
   "metadata": {},
   "outputs": [
    {
     "data": {
      "text/plain": [
       "0.768423582185197"
      ]
     },
     "execution_count": 6,
     "metadata": {},
     "output_type": "execute_result"
    }
   ],
   "source": [
    "test_acc = bp.pipe.score(X_test, y_test)\n",
    "test_acc"
   ]
  },
  {
   "cell_type": "code",
   "execution_count": 7,
   "id": "c9a8a546",
   "metadata": {},
   "outputs": [],
   "source": [
    "write_to_json(get_scores_dict(\"cvec_gb\", train_acc, test_acc))"
   ]
  },
  {
   "cell_type": "markdown",
   "id": "4a3a462c",
   "metadata": {},
   "source": [
    "## TfidfVectorizer + GradientBoostingClassifier"
   ]
  },
  {
   "cell_type": "code",
   "execution_count": 8,
   "id": "be4be823",
   "metadata": {},
   "outputs": [],
   "source": [
    "bp = BuildPipeline(X_train, y_train)\n",
    "# build pipeline\n",
    "bp.get_pipeline('tvec', GradientBoostingClassifier);\n",
    "# fit pipeline\n",
    "bp.grid_search();"
   ]
  },
  {
   "cell_type": "code",
   "execution_count": 9,
   "id": "92c2cf1e",
   "metadata": {},
   "outputs": [
    {
     "data": {
      "text/plain": [
       "0.7658744993324432"
      ]
     },
     "execution_count": 9,
     "metadata": {},
     "output_type": "execute_result"
    }
   ],
   "source": [
    "train_acc = bp.pipe.score(X_train, y_train)\n",
    "train_acc"
   ]
  },
  {
   "cell_type": "code",
   "execution_count": 10,
   "id": "60e15489",
   "metadata": {},
   "outputs": [
    {
     "data": {
      "text/plain": [
       "0.7673822492790772"
      ]
     },
     "execution_count": 10,
     "metadata": {},
     "output_type": "execute_result"
    }
   ],
   "source": [
    "test_acc = bp.pipe.score(X_test, y_test)\n",
    "test_acc"
   ]
  },
  {
   "cell_type": "code",
   "execution_count": 11,
   "id": "4228f7b7",
   "metadata": {},
   "outputs": [],
   "source": [
    "write_to_json(get_scores_dict(\"tvec_gb\", train_acc, test_acc))"
   ]
  },
  {
   "cell_type": "code",
   "execution_count": null,
   "id": "23c0d15a",
   "metadata": {},
   "outputs": [],
   "source": []
  }
 ],
 "metadata": {
  "kernelspec": {
   "display_name": "Python 3 (ipykernel)",
   "language": "python",
   "name": "python3"
  },
  "language_info": {
   "codemirror_mode": {
    "name": "ipython",
    "version": 3
   },
   "file_extension": ".py",
   "mimetype": "text/x-python",
   "name": "python",
   "nbconvert_exporter": "python",
   "pygments_lexer": "ipython3",
   "version": "3.9.12"
  }
 },
 "nbformat": 4,
 "nbformat_minor": 5
}
