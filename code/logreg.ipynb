{
 "cells": [
  {
   "cell_type": "markdown",
   "id": "1b583d52",
   "metadata": {},
   "source": [
    "# 1. Baseline model"
   ]
  },
  {
   "cell_type": "code",
   "execution_count": 1,
   "id": "5f9b7937",
   "metadata": {},
   "outputs": [],
   "source": [
    "# Imports\n",
    "import pandas as pd\n",
    "import numpy as np\n",
    "\n",
    "from sklearn.linear_model import LogisticRegression\n",
    "\n",
    "# this class builds a pipeline given a transformer and a classifier\n",
    "from get_pipeline import BuildPipeline\n",
    "\n",
    "# save the scores to a json file\n",
    "from helpers import separate_X_y, write_to_json, get_scores_dict, save_model"
   ]
  },
  {
   "cell_type": "markdown",
   "id": "04c4f2db",
   "metadata": {},
   "source": [
    "## Read data"
   ]
  },
  {
   "cell_type": "code",
   "execution_count": 19,
   "id": "2977987d",
   "metadata": {},
   "outputs": [],
   "source": [
    "train = pd.read_csv('../data/train.csv')\n",
    "test = pd.read_csv('../data/test.csv')"
   ]
  },
  {
   "cell_type": "code",
   "execution_count": 20,
   "id": "47cc3e4f",
   "metadata": {},
   "outputs": [
    {
     "data": {
      "text/plain": [
       "(37450, 5)"
      ]
     },
     "execution_count": 20,
     "metadata": {},
     "output_type": "execute_result"
    }
   ],
   "source": [
    "train.shape"
   ]
  },
  {
   "cell_type": "code",
   "execution_count": 21,
   "id": "1165d829",
   "metadata": {},
   "outputs": [
    {
     "data": {
      "text/plain": [
       "(12484, 5)"
      ]
     },
     "execution_count": 21,
     "metadata": {},
     "output_type": "execute_result"
    }
   ],
   "source": [
    "test.shape"
   ]
  },
  {
   "cell_type": "markdown",
   "id": "ed021e5f",
   "metadata": {},
   "source": [
    "## Baseline"
   ]
  },
  {
   "cell_type": "code",
   "execution_count": 5,
   "id": "87bd85ed",
   "metadata": {},
   "outputs": [
    {
     "data": {
      "text/plain": [
       "0.5007476635514019"
      ]
     },
     "execution_count": 5,
     "metadata": {},
     "output_type": "execute_result"
    }
   ],
   "source": [
    "train['is_worldnews'].value_counts(normalize=True).max()"
   ]
  },
  {
   "cell_type": "code",
   "execution_count": 6,
   "id": "3ba697a5",
   "metadata": {},
   "outputs": [],
   "source": [
    "scores = {\"Baseline\": train['is_worldnews'].value_counts(normalize=True).max()}\n",
    "\n",
    "write_to_json(scores)"
   ]
  },
  {
   "cell_type": "markdown",
   "id": "fa557b30",
   "metadata": {},
   "source": [
    "## Separate `X` and `y`"
   ]
  },
  {
   "cell_type": "code",
   "execution_count": 22,
   "id": "58277e6a",
   "metadata": {},
   "outputs": [],
   "source": [
    "X_train, y_train = separate_X_y(train, 'title', 'is_worldnews')\n",
    "X_test, y_test = separate_X_y(test, 'title', 'is_worldnews')"
   ]
  },
  {
   "cell_type": "markdown",
   "id": "c9cf4eaf",
   "metadata": {},
   "source": [
    "## CountVectorizer + Logistic Regression"
   ]
  },
  {
   "cell_type": "code",
   "execution_count": 8,
   "id": "a4184b3e",
   "metadata": {},
   "outputs": [],
   "source": [
    "bp = BuildPipeline(X_train, y_train)\n",
    "# build pipeline\n",
    "bp.get_pipeline('cvec', LogisticRegression, max_iter=1000);\n",
    "# fit pipeline\n",
    "bp.grid_search();"
   ]
  },
  {
   "cell_type": "code",
   "execution_count": 9,
   "id": "972ade86",
   "metadata": {},
   "outputs": [
    {
     "data": {
      "text/plain": [
       "0.9454472630173565"
      ]
     },
     "execution_count": 9,
     "metadata": {},
     "output_type": "execute_result"
    }
   ],
   "source": [
    "train_acc = bp.pipe.score(X_train, y_train)\n",
    "train_acc"
   ]
  },
  {
   "cell_type": "code",
   "execution_count": 10,
   "id": "e67dc4ac",
   "metadata": {},
   "outputs": [
    {
     "data": {
      "text/plain": [
       "0.8588593399551426"
      ]
     },
     "execution_count": 10,
     "metadata": {},
     "output_type": "execute_result"
    }
   ],
   "source": [
    "test_acc = bp.pipe.score(X_test, y_test)\n",
    "test_acc"
   ]
  },
  {
   "cell_type": "code",
   "execution_count": 11,
   "id": "c9a8a546",
   "metadata": {},
   "outputs": [],
   "source": [
    "write_to_json(get_scores_dict(\"cvec_lr\", train_acc, test_acc))"
   ]
  },
  {
   "cell_type": "markdown",
   "id": "4a3a462c",
   "metadata": {},
   "source": [
    "## TfidfVectorizer + Logistic Regression"
   ]
  },
  {
   "cell_type": "code",
   "execution_count": 12,
   "id": "be4be823",
   "metadata": {},
   "outputs": [],
   "source": [
    "bp = BuildPipeline(X_train, y_train)\n",
    "# build pipeline\n",
    "bp.get_pipeline('tvec', LogisticRegression);\n",
    "# fit pipeline\n",
    "bp.grid_search();"
   ]
  },
  {
   "cell_type": "code",
   "execution_count": 13,
   "id": "92c2cf1e",
   "metadata": {},
   "outputs": [],
   "source": [
    "train_acc = bp.pipe.score(X_train, y_train)"
   ]
  },
  {
   "cell_type": "code",
   "execution_count": 14,
   "id": "60e15489",
   "metadata": {},
   "outputs": [],
   "source": [
    "test_acc = bp.pipe.score(X_test, y_test)"
   ]
  },
  {
   "cell_type": "code",
   "execution_count": 15,
   "id": "4228f7b7",
   "metadata": {},
   "outputs": [],
   "source": [
    "write_to_json(get_scores_dict(\"tvec_lr\", train_acc, test_acc))"
   ]
  },
  {
   "cell_type": "markdown",
   "id": "f35c7c64",
   "metadata": {},
   "source": [
    "# 2. Grid Search"
   ]
  },
  {
   "cell_type": "code",
   "execution_count": 23,
   "id": "b33f0b3a",
   "metadata": {},
   "outputs": [
    {
     "data": {
      "text/plain": [
       "{'memory': None,\n",
       " 'steps': [('cvec', CountVectorizer()), ('lr', LogisticRegression())],\n",
       " 'verbose': False,\n",
       " 'cvec': CountVectorizer(),\n",
       " 'lr': LogisticRegression(),\n",
       " 'cvec__analyzer': 'word',\n",
       " 'cvec__binary': False,\n",
       " 'cvec__decode_error': 'strict',\n",
       " 'cvec__dtype': numpy.int64,\n",
       " 'cvec__encoding': 'utf-8',\n",
       " 'cvec__input': 'content',\n",
       " 'cvec__lowercase': True,\n",
       " 'cvec__max_df': 1.0,\n",
       " 'cvec__max_features': None,\n",
       " 'cvec__min_df': 1,\n",
       " 'cvec__ngram_range': (1, 1),\n",
       " 'cvec__preprocessor': None,\n",
       " 'cvec__stop_words': None,\n",
       " 'cvec__strip_accents': None,\n",
       " 'cvec__token_pattern': '(?u)\\\\b\\\\w\\\\w+\\\\b',\n",
       " 'cvec__tokenizer': None,\n",
       " 'cvec__vocabulary': None,\n",
       " 'lr__C': 1.0,\n",
       " 'lr__class_weight': None,\n",
       " 'lr__dual': False,\n",
       " 'lr__fit_intercept': True,\n",
       " 'lr__intercept_scaling': 1,\n",
       " 'lr__l1_ratio': None,\n",
       " 'lr__max_iter': 100,\n",
       " 'lr__multi_class': 'auto',\n",
       " 'lr__n_jobs': None,\n",
       " 'lr__penalty': 'l2',\n",
       " 'lr__random_state': None,\n",
       " 'lr__solver': 'lbfgs',\n",
       " 'lr__tol': 0.0001,\n",
       " 'lr__verbose': 0,\n",
       " 'lr__warm_start': False}"
      ]
     },
     "execution_count": 23,
     "metadata": {},
     "output_type": "execute_result"
    }
   ],
   "source": [
    "bp = BuildPipeline(X_train, y_train)\n",
    "# build pipeline\n",
    "bp.get_pipeline('cvec', LogisticRegression);\n",
    "bp.get_params()"
   ]
  },
  {
   "cell_type": "code",
   "execution_count": 24,
   "id": "7e47b8f6",
   "metadata": {},
   "outputs": [
    {
     "name": "stdout",
     "output_type": "stream",
     "text": [
      "CPU times: total: 21min 10s\n",
      "Wall time: 18min 9s\n"
     ]
    }
   ],
   "source": [
    "%%time\n",
    "# fit pipeline\n",
    "\n",
    "\n",
    "param_grid = {\n",
    "    'cvec__ngram_range': [(1,1), (1,2)],\n",
    "    'cvec__min_df': [1, 2, 3], \n",
    "    'cvec__max_df': [0.9, 0.95],\n",
    "    'lr__penalty': ['l1', 'l2'],\n",
    "    'lr__solver': ['liblinear'],\n",
    "    'lr__max_iter': [1000],\n",
    "    'lr__C': np.logspace(-4, 1, 50)\n",
    "}\n",
    "\n",
    "gs = bp.grid_search(param_grid, cv=10, random=True, n_iter=50)"
   ]
  },
  {
   "cell_type": "code",
   "execution_count": 25,
   "id": "e9adaafb",
   "metadata": {},
   "outputs": [
    {
     "data": {
      "text/plain": [
       "{'lr__solver': 'liblinear',\n",
       " 'lr__penalty': 'l2',\n",
       " 'lr__max_iter': 1000,\n",
       " 'lr__C': 1.5264179671752334,\n",
       " 'cvec__ngram_range': (1, 2),\n",
       " 'cvec__min_df': 1,\n",
       " 'cvec__max_df': 0.9}"
      ]
     },
     "execution_count": 25,
     "metadata": {},
     "output_type": "execute_result"
    }
   ],
   "source": [
    "gs.best_params_"
   ]
  },
  {
   "cell_type": "code",
   "execution_count": 26,
   "id": "2f555315",
   "metadata": {},
   "outputs": [
    {
     "data": {
      "text/plain": [
       "0.9899599465954606"
      ]
     },
     "execution_count": 26,
     "metadata": {},
     "output_type": "execute_result"
    }
   ],
   "source": [
    "train_acc = gs.score(X_train, y_train)\n",
    "train_acc"
   ]
  },
  {
   "cell_type": "code",
   "execution_count": 27,
   "id": "26e9142b",
   "metadata": {},
   "outputs": [
    {
     "data": {
      "text/plain": [
       "0.8671900032041012"
      ]
     },
     "execution_count": 27,
     "metadata": {},
     "output_type": "execute_result"
    }
   ],
   "source": [
    "test_acc = gs.score(X_test, y_test)\n",
    "test_acc"
   ]
  },
  {
   "cell_type": "markdown",
   "id": "6d30369d",
   "metadata": {},
   "source": [
    "### Grid Search: Tfidf"
   ]
  },
  {
   "cell_type": "code",
   "execution_count": 28,
   "id": "2c596b2d",
   "metadata": {},
   "outputs": [],
   "source": [
    "bp = BuildPipeline(X_train, y_train)\n",
    "# build pipeline\n",
    "bp.get_pipeline('tvec', LogisticRegression, max_iter=1000);"
   ]
  },
  {
   "cell_type": "code",
   "execution_count": null,
   "id": "249e0b74",
   "metadata": {},
   "outputs": [],
   "source": [
    "%%time\n",
    "# fit pipeline\n",
    "\n",
    "\n",
    "param_grid = {\n",
    "    'cvec__ngram_range': [(1,1), (1,2)],\n",
    "    'cvec__min_df': [1, 2, 3], \n",
    "    'cvec__max_df': [0.9, 0.95],\n",
    "    'lr__penalty': ['l1', 'l2'],\n",
    "    'lr__solver': ['liblinear'],\n",
    "    'lr__max_iter': [1000],\n",
    "    'lr__C': np.logspace(-4, 1, 50)\n",
    "}\n",
    "\n",
    "gs = bp.grid_search(param_grid, cv=10, random=True, n_iter=50)"
   ]
  },
  {
   "cell_type": "code",
   "execution_count": null,
   "id": "a23d3147",
   "metadata": {},
   "outputs": [],
   "source": [
    "gs.best_params_"
   ]
  },
  {
   "cell_type": "code",
   "execution_count": null,
   "id": "cb12b282",
   "metadata": {},
   "outputs": [],
   "source": [
    "train_acc = gs.score(X_train, y_train)\n",
    "train_acc"
   ]
  },
  {
   "cell_type": "code",
   "execution_count": null,
   "id": "f8966aad",
   "metadata": {},
   "outputs": [],
   "source": [
    "test_acc = gs.score(X_test, y_test)\n",
    "test_acc"
   ]
  },
  {
   "cell_type": "markdown",
   "id": "6d820939",
   "metadata": {},
   "source": [
    "# 2. Train on lemmatized data"
   ]
  },
  {
   "cell_type": "code",
   "execution_count": 5,
   "id": "7fb4cedb",
   "metadata": {},
   "outputs": [],
   "source": [
    "train_lm = pd.read_csv(\"../data/train_lemmatized.csv\")\n",
    "test_lm = pd.read_csv(\"../data/test_lemmatized.csv\")"
   ]
  },
  {
   "cell_type": "code",
   "execution_count": 6,
   "id": "6511dcf3",
   "metadata": {},
   "outputs": [],
   "source": [
    "X_train_lm, y_train = separate_X_y(train_lm, 'new_title', 'is_worldnews')\n",
    "X_test_lm, y_test = separate_X_y(test_lm, 'new_title', 'is_worldnews')"
   ]
  },
  {
   "cell_type": "code",
   "execution_count": 8,
   "id": "5e66706c",
   "metadata": {},
   "outputs": [
    {
     "name": "stderr",
     "output_type": "stream",
     "text": [
      "C:\\Users\\Manlaigiin\\anaconda3\\lib\\site-packages\\sklearn\\svm\\_base.py:1206: ConvergenceWarning: Liblinear failed to converge, increase the number of iterations.\n",
      "  warnings.warn(\n"
     ]
    },
    {
     "name": "stdout",
     "output_type": "stream",
     "text": [
      "CPU times: total: 38min 39s\n",
      "Wall time: 39min 16s\n"
     ]
    }
   ],
   "source": [
    "%%time\n",
    "# fit pipeline\n",
    "bp = BuildPipeline(X_train_lm, y_train)\n",
    "bp.get_pipeline('cvec', LogisticRegression)\n",
    "\n",
    "param_grid = {\n",
    "    'cvec__ngram_range': [(1,1), (1,2)],\n",
    "    'cvec__min_df': [1, 2, 3], \n",
    "    'cvec__max_df': [0.9, 0.95],\n",
    "    'lr__penalty': ['l1', 'l2'],\n",
    "    'lr__solver': ['liblinear'],\n",
    "    'lr__max_iter': [1000],\n",
    "    'lr__C': np.logspace(-4, 1, 50)\n",
    "}\n",
    "\n",
    "gs = bp.grid_search(param_grid, cv=10, random=True, n_iter=50)"
   ]
  },
  {
   "cell_type": "code",
   "execution_count": 10,
   "id": "2dd8cdd8",
   "metadata": {},
   "outputs": [
    {
     "data": {
      "text/plain": [
       "{'lr__solver': 'liblinear',\n",
       " 'lr__penalty': 'l2',\n",
       " 'lr__max_iter': 1000,\n",
       " 'lr__C': 1.5264179671752334,\n",
       " 'cvec__ngram_range': (1, 2),\n",
       " 'cvec__min_df': 1,\n",
       " 'cvec__max_df': 0.95}"
      ]
     },
     "execution_count": 10,
     "metadata": {},
     "output_type": "execute_result"
    }
   ],
   "source": [
    "gs.best_params_"
   ]
  },
  {
   "cell_type": "code",
   "execution_count": 11,
   "id": "528638b8",
   "metadata": {},
   "outputs": [
    {
     "data": {
      "text/plain": [
       "0.9889434889434889"
      ]
     },
     "execution_count": 11,
     "metadata": {},
     "output_type": "execute_result"
    }
   ],
   "source": [
    "train_acc_lm = gs.score(X_train_lm, y_train)\n",
    "train_acc_lm"
   ]
  },
  {
   "cell_type": "code",
   "execution_count": 12,
   "id": "27c22d1d",
   "metadata": {},
   "outputs": [
    {
     "data": {
      "text/plain": [
       "0.8675692997917"
      ]
     },
     "execution_count": 12,
     "metadata": {},
     "output_type": "execute_result"
    }
   ],
   "source": [
    "test_acc_lm = gs.score(X_test_lm, y_test)\n",
    "test_acc_lm"
   ]
  },
  {
   "cell_type": "code",
   "execution_count": 16,
   "id": "cbc3d5db",
   "metadata": {},
   "outputs": [],
   "source": [
    "write_to_json(get_scores_dict(\"lm_cvec_lr\", train_acc_lm, test_acc_lm))"
   ]
  },
  {
   "cell_type": "code",
   "execution_count": 15,
   "id": "97130f68",
   "metadata": {},
   "outputs": [],
   "source": [
    "save_model(\"logreg\", gs)"
   ]
  },
  {
   "cell_type": "code",
   "execution_count": null,
   "id": "d87db029",
   "metadata": {},
   "outputs": [],
   "source": []
  }
 ],
 "metadata": {
  "kernelspec": {
   "display_name": "Python 3 (ipykernel)",
   "language": "python",
   "name": "python3"
  },
  "language_info": {
   "codemirror_mode": {
    "name": "ipython",
    "version": 3
   },
   "file_extension": ".py",
   "mimetype": "text/x-python",
   "name": "python",
   "nbconvert_exporter": "python",
   "pygments_lexer": "ipython3",
   "version": "3.9.12"
  }
 },
 "nbformat": 4,
 "nbformat_minor": 5
}
