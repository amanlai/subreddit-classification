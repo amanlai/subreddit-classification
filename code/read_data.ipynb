{
 "cells": [
  {
   "cell_type": "markdown",
   "id": "38887377",
   "metadata": {},
   "source": [
    "## Get /r/worldnews and /r/nottheonion"
   ]
  },
  {
   "cell_type": "code",
   "execution_count": 1,
   "id": "9eb632e6",
   "metadata": {},
   "outputs": [],
   "source": [
    "from get_reddit_data import get_reddit_data, get_dataframe\n",
    "import numpy as np\n",
    "import pandas as pd\n",
    "from sklearn.model_selection import train_test_split"
   ]
  },
  {
   "cell_type": "code",
   "execution_count": 2,
   "id": "eccc373b",
   "metadata": {},
   "outputs": [
    {
     "name": "stdout",
     "output_type": "stream",
     "text": [
      "............ 100.0% done\r"
     ]
    }
   ],
   "source": [
    "def get_data(subreddits):\n",
    "    \n",
    "    for subreddit in subreddits:\n",
    "        \n",
    "        for i in range(3):\n",
    "            \n",
    "            if f\"{subreddit}{i}\" in os.listdir('../data/'):\n",
    "                with open(f\"../data/{subreddit}{i}.json\", \"r\") as f:\n",
    "                    current_time = json.load(f)[-1]['created_utc']\n",
    "            else:\n",
    "                current_time = None\n",
    "                \n",
    "            get_reddit_data(subreddit, batch_size=5000, \n",
    "                            current_time=current_time, \n",
    "                            filename=f'{subreddit}{i+1}')\n",
    "            \n",
    "#get_data(['worldnews', 'nottheonion'])"
   ]
  },
  {
   "cell_type": "code",
   "execution_count": 2,
   "id": "991226cc",
   "metadata": {},
   "outputs": [],
   "source": [
    "wn_df = get_dataframe('worldnews')\n",
    "nto_df = get_dataframe('nottheonion')"
   ]
  },
  {
   "cell_type": "code",
   "execution_count": 9,
   "id": "72db93af",
   "metadata": {},
   "outputs": [],
   "source": [
    "df = pd.concat([wn_df, nto_df])"
   ]
  },
  {
   "cell_type": "code",
   "execution_count": 15,
   "id": "b03eb940",
   "metadata": {},
   "outputs": [
    {
     "data": {
      "text/html": [
       "<div>\n",
       "<style scoped>\n",
       "    .dataframe tbody tr th:only-of-type {\n",
       "        vertical-align: middle;\n",
       "    }\n",
       "\n",
       "    .dataframe tbody tr th {\n",
       "        vertical-align: top;\n",
       "    }\n",
       "\n",
       "    .dataframe thead th {\n",
       "        text-align: right;\n",
       "    }\n",
       "</style>\n",
       "<table border=\"1\" class=\"dataframe\">\n",
       "  <thead>\n",
       "    <tr style=\"text-align: right;\">\n",
       "      <th></th>\n",
       "      <th>created_utc</th>\n",
       "      <th>selftext</th>\n",
       "      <th>subreddit</th>\n",
       "      <th>title</th>\n",
       "    </tr>\n",
       "  </thead>\n",
       "  <tbody>\n",
       "    <tr>\n",
       "      <th>0</th>\n",
       "      <td>1664835340</td>\n",
       "      <td>NaN</td>\n",
       "      <td>worldnews</td>\n",
       "      <td>Ramzan Kadyrov: Chechen leader vows to send te...</td>\n",
       "    </tr>\n",
       "    <tr>\n",
       "      <th>1</th>\n",
       "      <td>1660875830</td>\n",
       "      <td>NaN</td>\n",
       "      <td>nottheonion</td>\n",
       "      <td>Pennsylvania man arrested for allegedly buying...</td>\n",
       "    </tr>\n",
       "    <tr>\n",
       "      <th>2</th>\n",
       "      <td>1653408763</td>\n",
       "      <td>NaN</td>\n",
       "      <td>nottheonion</td>\n",
       "      <td>Cincinnati police: Fight during staff meeting ...</td>\n",
       "    </tr>\n",
       "    <tr>\n",
       "      <th>3</th>\n",
       "      <td>1656967045</td>\n",
       "      <td>NaN</td>\n",
       "      <td>nottheonion</td>\n",
       "      <td>Kid Rock, Who Swears He’s Not Homophobic, Post...</td>\n",
       "    </tr>\n",
       "    <tr>\n",
       "      <th>4</th>\n",
       "      <td>1666457513</td>\n",
       "      <td>NaN</td>\n",
       "      <td>worldnews</td>\n",
       "      <td>10 Times The MCU Ignored Its Own Movies</td>\n",
       "    </tr>\n",
       "  </tbody>\n",
       "</table>\n",
       "</div>"
      ],
      "text/plain": [
       "   created_utc selftext    subreddit  \\\n",
       "0   1664835340      NaN    worldnews   \n",
       "1   1660875830      NaN  nottheonion   \n",
       "2   1653408763      NaN  nottheonion   \n",
       "3   1656967045      NaN  nottheonion   \n",
       "4   1666457513      NaN    worldnews   \n",
       "\n",
       "                                               title  \n",
       "0  Ramzan Kadyrov: Chechen leader vows to send te...  \n",
       "1  Pennsylvania man arrested for allegedly buying...  \n",
       "2  Cincinnati police: Fight during staff meeting ...  \n",
       "3  Kid Rock, Who Swears He’s Not Homophobic, Post...  \n",
       "4            10 Times The MCU Ignored Its Own Movies  "
      ]
     },
     "execution_count": 15,
     "metadata": {},
     "output_type": "execute_result"
    }
   ],
   "source": [
    "df.head()"
   ]
  },
  {
   "cell_type": "code",
   "execution_count": 23,
   "id": "3b892fed",
   "metadata": {},
   "outputs": [],
   "source": [
    "df['selftext'] = df['selftext'].mask(lambda x: x=='[deleted]')"
   ]
  },
  {
   "cell_type": "code",
   "execution_count": 14,
   "id": "64c1b1dc",
   "metadata": {},
   "outputs": [],
   "source": [
    "df.sample(frac=1).to_csv('../data/nottheonion_vs_worldnews.csv', index=False)"
   ]
  },
  {
   "cell_type": "markdown",
   "id": "b1aefda3",
   "metadata": {},
   "source": [
    "## Add target variable"
   ]
  },
  {
   "cell_type": "code",
   "execution_count": 12,
   "id": "07d86930",
   "metadata": {},
   "outputs": [],
   "source": [
    "df['is_worldnews'] = np.where(df['subreddit'].eq('worldnews'), 1, 0)"
   ]
  },
  {
   "cell_type": "markdown",
   "id": "b6a6ac54",
   "metadata": {},
   "source": [
    "## Split the data into train and test set"
   ]
  },
  {
   "cell_type": "code",
   "execution_count": 13,
   "id": "a271ef31",
   "metadata": {},
   "outputs": [],
   "source": [
    "train, test = train_test_split(df)\n",
    "train.to_csv('../data/train.csv', index=False)\n",
    "test.to_csv('../data/test.csv', index=False)"
   ]
  },
  {
   "cell_type": "code",
   "execution_count": 8,
   "id": "abf939c3",
   "metadata": {},
   "outputs": [
    {
     "data": {
      "text/plain": [
       "max   2022-10-23 05:34:47\n",
       "min   2022-08-31 22:14:40\n",
       "Name: created_utc, dtype: datetime64[ns]"
      ]
     },
     "execution_count": 8,
     "metadata": {},
     "output_type": "execute_result"
    }
   ],
   "source": [
    "pd.to_datetime(df.loc[df['subreddit']=='worldnews', 'created_utc'].agg(['max', 'min']), unit='s')"
   ]
  },
  {
   "cell_type": "code",
   "execution_count": 10,
   "id": "87410616",
   "metadata": {},
   "outputs": [
    {
     "data": {
      "text/plain": [
       "max   2022-10-23 05:05:43\n",
       "min   2022-05-05 17:50:51\n",
       "Name: created_utc, dtype: datetime64[ns]"
      ]
     },
     "execution_count": 10,
     "metadata": {},
     "output_type": "execute_result"
    }
   ],
   "source": [
    "pd.to_datetime(df.loc[df['subreddit']=='nottheonion', 'created_utc'].agg(['max', 'min']), unit='s')"
   ]
  },
  {
   "cell_type": "code",
   "execution_count": null,
   "id": "17fcaa40",
   "metadata": {},
   "outputs": [],
   "source": []
  }
 ],
 "metadata": {
  "kernelspec": {
   "display_name": "Python 3 (ipykernel)",
   "language": "python",
   "name": "python3"
  },
  "language_info": {
   "codemirror_mode": {
    "name": "ipython",
    "version": 3
   },
   "file_extension": ".py",
   "mimetype": "text/x-python",
   "name": "python",
   "nbconvert_exporter": "python",
   "pygments_lexer": "ipython3",
   "version": "3.9.12"
  }
 },
 "nbformat": 4,
 "nbformat_minor": 5
}
