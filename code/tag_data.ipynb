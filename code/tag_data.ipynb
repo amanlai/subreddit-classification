{
 "cells": [
  {
   "cell_type": "markdown",
   "id": "f4dc805d",
   "metadata": {},
   "source": [
    "# Lemmatize sentences"
   ]
  },
  {
   "cell_type": "code",
   "execution_count": 1,
   "id": "5a1a19e5",
   "metadata": {},
   "outputs": [],
   "source": [
    "import pandas as pd\n",
    "\n",
    "\n",
    "# helper functions to tag words\n",
    "from helpers import lemmatized"
   ]
  },
  {
   "cell_type": "markdown",
   "id": "17cf7780",
   "metadata": {},
   "source": [
    "## Read data"
   ]
  },
  {
   "cell_type": "code",
   "execution_count": 3,
   "id": "c8f6fbed",
   "metadata": {},
   "outputs": [],
   "source": [
    "train = pd.read_csv('../data/train.csv')\n",
    "test = pd.read_csv('../data/test.csv')"
   ]
  },
  {
   "cell_type": "markdown",
   "id": "7d99fc6f",
   "metadata": {},
   "source": [
    "## Lemmatize"
   ]
  },
  {
   "cell_type": "code",
   "execution_count": 4,
   "id": "18dddc5b",
   "metadata": {},
   "outputs": [],
   "source": [
    "train['new_title'] = train.pop('title').apply(lemmatized)\n",
    "test['new_title'] = test.pop('title').apply(lemmatized)"
   ]
  },
  {
   "cell_type": "code",
   "execution_count": null,
   "id": "a4bdcaf7",
   "metadata": {},
   "outputs": [],
   "source": [
    "train.query(\"new_title != ''\").to_csv(\"../data/train_lemmatized.csv\", index=False)\n",
    "test.query(\"new_title != ''\").to_csv(\"../data/test_lemmatized.csv\", index=False)"
   ]
  },
  {
   "cell_type": "code",
   "execution_count": 6,
   "id": "c11f424f",
   "metadata": {},
   "outputs": [],
   "source": [
    "from sklearn.feature_extraction.text import CountVectorizer\n",
    "\n",
    "df = pd.concat([train.query(\"new_title != ''\"), test.query(\"new_title != ''\")], ignore_index=True)\n",
    "cvec1 = CountVectorizer()\n",
    "a = cvec1.fit_transform(df.loc[df['subreddit']=='worldnews', 'new_title'])\n",
    "cvec2 = CountVectorizer()\n",
    "b = cvec2.fit_transform(df.loc[df['subreddit']=='nottheonion', 'new_title'])"
   ]
  },
  {
   "cell_type": "code",
   "execution_count": 9,
   "id": "706e4220",
   "metadata": {},
   "outputs": [
    {
     "data": {
      "text/plain": [
       "((19157,), (18980,))"
      ]
     },
     "execution_count": 9,
     "metadata": {},
     "output_type": "execute_result"
    }
   ],
   "source": [
    "a1 = cvec1.get_feature_names_out()\n",
    "a2 = cvec2.get_feature_names_out()\n",
    "a1.shape, a2.shape"
   ]
  },
  {
   "cell_type": "code",
   "execution_count": 10,
   "id": "af0527c0",
   "metadata": {},
   "outputs": [
    {
     "data": {
      "text/plain": [
       "9471"
      ]
     },
     "execution_count": 10,
     "metadata": {},
     "output_type": "execute_result"
    }
   ],
   "source": [
    "common = set(a1.tolist()) & set(a2.tolist())\n",
    "len(common)"
   ]
  },
  {
   "cell_type": "code",
   "execution_count": 11,
   "id": "d78f5141",
   "metadata": {},
   "outputs": [],
   "source": [
    "df1 = pd.concat([train, test], ignore_index=True)\n",
    "cvec11 = CountVectorizer()\n",
    "a = cvec11.fit_transform(df1.loc[df1['subreddit']=='worldnews', 'new_title'])\n",
    "cvec12 = CountVectorizer()\n",
    "b = cvec12.fit_transform(df1.loc[df1['subreddit']=='nottheonion', 'new_title'])"
   ]
  },
  {
   "cell_type": "code",
   "execution_count": 12,
   "id": "9fa34bf9",
   "metadata": {},
   "outputs": [
    {
     "data": {
      "text/plain": [
       "(19157, 18980, 9471)"
      ]
     },
     "execution_count": 12,
     "metadata": {},
     "output_type": "execute_result"
    }
   ],
   "source": [
    "x = set(cvec11.get_feature_names_out())\n",
    "y = set(cvec12.get_feature_names_out())\n",
    "len(x), len(y), len(x&y)"
   ]
  },
  {
   "cell_type": "code",
   "execution_count": null,
   "id": "88ebbdf6",
   "metadata": {},
   "outputs": [],
   "source": []
  }
 ],
 "metadata": {
  "kernelspec": {
   "display_name": "Python 3 (ipykernel)",
   "language": "python",
   "name": "python3"
  },
  "language_info": {
   "codemirror_mode": {
    "name": "ipython",
    "version": 3
   },
   "file_extension": ".py",
   "mimetype": "text/x-python",
   "name": "python",
   "nbconvert_exporter": "python",
   "pygments_lexer": "ipython3",
   "version": "3.9.12"
  }
 },
 "nbformat": 4,
 "nbformat_minor": 5
}
